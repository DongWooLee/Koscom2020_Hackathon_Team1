{
 "cells": [
  {
   "cell_type": "code",
   "execution_count": 1,
   "metadata": {},
   "outputs": [],
   "source": [
    "import matplotlib.pyplot as plt\n",
    "import numpy as np\n",
    "import pandas as pd\n",
    "import pykrx\n",
    "from pykrx import stock\n",
    "from datetime import datetime\n",
    "import datetime as dt\n",
    "import os\n",
    "from scipy.cluster.vq import vq, kmeans, whiten\n",
    "from sklearn.cluster import KMeans\n",
    "from sklearn.ensemble import RandomForestClassifier\n",
    "from sklearn.metrics import classification_report\n",
    "from sklearn.metrics import accuracy_score\n",
    "import random\n",
    "import json\n",
    "from collections import OrderedDict\n",
    "import pickle"
   ]
  },
  {
   "cell_type": "markdown",
   "metadata": {},
   "source": [
    "# 전체 종목 List 반환"
   ]
  },
  {
   "cell_type": "code",
   "execution_count": 2,
   "metadata": {},
   "outputs": [
    {
     "name": "stdout",
     "output_type": "stream",
     "text": [
      "1001 20201111 ST 0\n"
     ]
    }
   ],
   "source": [
    "today = datetime.now().strftime(\"%Y%m%d\")\n",
    "code_list = stock.get_market_ticker_list(\"20201111\", market=\"KOSPI\")\n",
    "\n",
    "stock_list = pd.DataFrame()\n",
    "name_list = []\n",
    "\n",
    "for code in code_list:\n",
    "    name = stock.get_market_ticker_name(code)\n",
    "    name_list.append(name)\n",
    "\n",
    "name_list = np.array(name_list)\n",
    "stock_list[\"Code\"] = code_list\n",
    "stock_list[\"Name\"] = name_list"
   ]
  },
  {
   "cell_type": "code",
   "execution_count": 3,
   "metadata": {},
   "outputs": [
    {
     "name": "stdout",
     "output_type": "stream",
     "text": [
      "       Code     Name\n",
      "0    095570   AJ네트웍스\n",
      "1    006840    AK홀딩스\n",
      "2    027410      BGF\n",
      "3    282330   BGF리테일\n",
      "4    138930  BNK금융지주\n",
      "..      ...      ...\n",
      "792  079980      휴비스\n",
      "793  005010      휴스틸\n",
      "794  069260      휴켐스\n",
      "795  000540     흥국화재\n",
      "796  003280     흥아해운\n",
      "\n",
      "[797 rows x 2 columns]\n"
     ]
    }
   ],
   "source": [
    "print (stock_list)"
   ]
  },
  {
   "cell_type": "markdown",
   "metadata": {},
   "source": [
    "# 종목당 기간별 Price값 얻어오기"
   ]
  },
  {
   "cell_type": "code",
   "execution_count": null,
   "metadata": {},
   "outputs": [],
   "source": [
    "def get_price_by_name (name):\n",
    "    target = stock_list[stock_list['Name']== name]\n",
    "    price_data = stock.get_market_ohlcv_by_date(\"20171101\", \"20201101\", target['Code'])\n",
    "    return price_data"
   ]
  },
  {
   "cell_type": "markdown",
   "metadata": {},
   "source": [
    "# 모든 상장종목의 차트를 아래 경로에 저장!!"
   ]
  },
  {
   "cell_type": "code",
   "execution_count": null,
   "metadata": {},
   "outputs": [],
   "source": [
    "Path = 'C:\\\\Chart\\\\'\n",
    "if not os.path.isdir(Path):\n",
    "    os.mkdir(Path)\n",
    "    \n",
    "for idx,row in stock_list.iterrows():\n",
    "    price_data = stock.get_market_ohlcv_by_date(\"20191101\",\"20201101\", row.Code)\n",
    "    plt.figure(figsize=(8,4.5))\n",
    "    plt.plot(price_data['종가'])\n",
    "    plt.title(row.Name)\n",
    "    plt.savefig(Path + row.Name + \".png\")"
   ]
  },
  {
   "cell_type": "markdown",
   "metadata": {},
   "source": [
    "# 정해진 기간만큼의 주가 데이터를 DataFrame형태로 저장"
   ]
  },
  {
   "cell_type": "code",
   "execution_count": null,
   "metadata": {},
   "outputs": [],
   "source": [
    "def get_price_data_in_period(start_date,end_date,result_period):\n",
    "    chart_df = pd.DataFrame()\n",
    "    chart_list = []\n",
    "    rst_list = []\n",
    "    chart_name_list = []\n",
    "    normal_len = 0\n",
    "\n",
    "    today = datetime.now().strftime(\"%Y%m%d\")\n",
    "\n",
    "    for idx,row in stock_list.iterrows():\n",
    "        price_data = stock.get_market_ohlcv_by_date(start_date, end_date, row.Code)\n",
    "        if idx == 0:\n",
    "            normal_len = len(price_data['종가'])\n",
    "        if len(price_data['종가']) == normal_len:\n",
    "            chart_name_list.append(row.Name)\n",
    "\n",
    "            #효율적인 학습을 위한 Normalization\n",
    "            chart_list.append(np.array(price_data['종가'] / np.max(price_data['종가'])))\n",
    "\n",
    "            rst_date = datetime.strptime(end_date, '%Y%m%d') + dt.timedelta(days=result_period)\n",
    "            rst_date = rst_date.strftime(\"%Y%m%d\")\n",
    "\n",
    "            result_data = stock.get_market_ohlcv_by_date(end_date, rst_date, row.Code)\n",
    "            rst_list.append(np.array(result_data['종가'] / np.max(price_data['종가'])))\n",
    "\n",
    "    chart_df['종목명'] = np.array(chart_name_list)\n",
    "    chart_df['차트'] = chart_list\n",
    "    chart_df['결과'] = rst_list\n",
    "    return chart_df"
   ]
  },
  {
   "cell_type": "code",
   "execution_count": null,
   "metadata": {},
   "outputs": [],
   "source": [
    "def get_price_data_with_period(end_date,ndays,result_days):\n",
    "    start_date_x = (datetime.strptime(end_date, '%Y%m%d') - dt.timedelta(days = ndays * 2)).strftime(\"%Y%m%d\")\n",
    "    \n",
    "    chart_list = []\n",
    "    chart_list_real=[]\n",
    "    highest_list = []\n",
    "    highest_list_real = []\n",
    "    closing_list = []\n",
    "    closing_list_real = []\n",
    "    chart_name_list = []\n",
    "    chart_df = pd.DataFrame()\n",
    "    \n",
    "    for idx,row in stock_list.iterrows():\n",
    "        print (row.Name)\n",
    "        price_data_before = stock.get_market_ohlcv_by_date(start_date_x, end_date, row.Code)\n",
    "        \n",
    "        if len(price_data_before) < ndays:\n",
    "            continue\n",
    "            \n",
    "        x = np.array(price_data_before['종가'])[-1 * ndays:]        \n",
    "        norm_x = x / np.max(x)\n",
    "        \n",
    "        start_date_y = datetime.strptime(end_date,'%Y%m%d') + dt.timedelta(days= 1)\n",
    "        end_date_y = start_date_y + dt.timedelta(days = result_days * 2)\n",
    "        \n",
    "        start_date_y = start_date_y.strftime(\"%Y%m%d\")\n",
    "        end_date_y = end_date_y.strftime(\"%Y%m%d\")\n",
    "        \n",
    "        price_data_after = stock.get_market_ohlcv_by_date(start_date_y,end_date_y,row.Code)\n",
    "        if len(price_data_after) < result_days:\n",
    "            continue\n",
    "                \n",
    "        y_closing = np.array(price_data_after['종가'])[:result_days]\n",
    "        y_highest = np.array(price_data_after['고가'])[:result_days]\n",
    "        \n",
    "        y_closing_norm = y_closing / np.max(x)\n",
    "        y_highest_norm = y_highest / np.max(x)\n",
    "        \n",
    "        chart_name_list.append(row.Name)\n",
    "        chart_list.append(norm_x)\n",
    "        closing_list.append(y_closing_norm)\n",
    "        highest_list.append(y_highest_norm)\n",
    "        chart_list_real.append(x)\n",
    "        closing_list_real.append(y_closing)\n",
    "        highest_list_real.append(y_highest)\n",
    "        \n",
    "    chart_df['종목명'] = np.array(chart_name_list)\n",
    "    chart_df['차트'] = chart_list\n",
    "    chart_df['종가'] = closing_list\n",
    "    chart_df['고가'] = highest_list\n",
    "    chart_df['차트(원본)'] = chart_list_real\n",
    "    chart_df['종가(원본)'] = closing_list_real\n",
    "    chart_df['고가(원본)'] = highest_list_real\n",
    "    return chart_df"
   ]
  },
  {
   "cell_type": "code",
   "execution_count": null,
   "metadata": {},
   "outputs": [],
   "source": [
    "def get_price_data_with_period(start_data,end_date):\n",
    "    chart_list = []\n",
    "    highest_list = []\n",
    "    closing_list = []\n",
    "    rst_list = []\n",
    "    chart_name_list = []\n",
    "    chart_df = pd.DataFrame()\n",
    "    \n",
    "    for idx,row in stock_list.iterrows():\n",
    "        \n",
    "        price_data = stock.get_market_ohlcv_by_date(start_date, end_date, row.Code)\n",
    "\n",
    "        x = np.array(price_data['종가'])        \n",
    "        x_closing = np.array(price_data['종가'])\n",
    "        x_highest = np.array(price_data['고가'])\n",
    "        \n",
    "        chart_name_list.append(row.Name)\n",
    "        chart_list.append(norm_x)\n",
    "        closing_list.append(y_closing_norm)\n",
    "        highest_list.append(y_highest_norm)\n",
    "        \n",
    "    chart_df['종목명'] = np.array(chart_name_list)\n",
    "    chart_df['차트'] = chart_list\n",
    "    chart_df['종가'] = closing_list\n",
    "    chart_df['고가'] = highest_list\n",
    "    return chart_df"
   ]
  },
  {
   "cell_type": "markdown",
   "metadata": {},
   "source": [
    "# Random한 학습 데이터 생성"
   ]
  },
  {
   "cell_type": "code",
   "execution_count": null,
   "metadata": {},
   "outputs": [],
   "source": [
    "def generate_train_data(n,left_date,right_date,train_len,result_len,code_list):\n",
    "    x_list = []\n",
    "    y_list = []\n",
    "    y_closing_list=[]\n",
    "    y_highest_list = []\n",
    "\n",
    "    while(True):\n",
    "        \n",
    "        if len(x_list) == n:\n",
    "            break\n",
    "            \n",
    "        duration = (datetime.strptime(right_date, '%Y%m%d') - datetime.strptime(left_date, '%Y%m%d')).days\n",
    "        rand_offset = random.randrange(0,duration)\n",
    "\n",
    "        start_date = datetime.strptime(left_date, '%Y%m%d') + dt.timedelta(days=rand_offset)\n",
    "        end_date = (start_date + dt.timedelta(days= (train_len + result_len) * 2)).strftime(\"%Y%m%d\")\n",
    "        start_date = start_date.strftime(\"%Y%m%d\")\n",
    "\n",
    "        rand_code = code_list[random.randrange(0,len(code_list))]\n",
    "        price_data = stock.get_market_ohlcv_by_date(start_date, end_date,rand_code)\n",
    "        \n",
    "        if len(price_data['종가']) < train_len + result_len:\n",
    "            continue\n",
    "        \n",
    "        closing_price_norm = price_data['종가'] / np.max(price_data['종가'][:train_len])\n",
    "        highest_price_norm = price_data['고가'] / np.max(price_data['종가'][:train_len])\n",
    "        \n",
    "        train_data = closing_price_norm[:train_len]\n",
    "        label_data = highest_price_norm[train_len:train_len+result_len]\n",
    "        raw_closing_data = closing_price_norm[train_len:train_len+result_len]\n",
    "        raw_highest_data = highest_price_norm[train_len:train_len+result_len]\n",
    "        \n",
    "        #label_data = int(np.max(label_data) >= (train_data[-1] * (1 + goal)))\n",
    "        \n",
    "        x_list.append(train_data)\n",
    "        #y_list.append(label_data)\n",
    "        y_closing_list.append(raw_closing_data)\n",
    "        y_highest_list.append(raw_highest_data)\n",
    "\n",
    "    x_list = np.array(x_list)\n",
    "    #y_list = np.array(y_list)\n",
    "    y_closing_list = np.array(y_closing_list)\n",
    "    y_highest_list = np.array(y_highest_list)\n",
    "    \n",
    "    return x_list,y_closing_list,y_highest_list"
   ]
  },
  {
   "cell_type": "code",
   "execution_count": null,
   "metadata": {},
   "outputs": [],
   "source": [
    "x_list,y_closing_list,y_highest_list = generate_train_data(10000,\"20180101\",\"20201101\",20,5,stock_list[\"Code\"])"
   ]
  },
  {
   "cell_type": "markdown",
   "metadata": {},
   "source": [
    "# K-Means Clutering을 통해 차트를 군집화"
   ]
  },
  {
   "cell_type": "code",
   "execution_count": null,
   "metadata": {},
   "outputs": [],
   "source": [
    "kmeans = KMeans(n_clusters=8)\n",
    "kmeans.fit(list(chart_df['차트']))\n",
    "\n",
    "filter_2 = chart_df['차트'][kmeans.labels_ == 2]\n",
    "filter_2_name = chart_df['종목명'][kmeans.labels_ == 2]\n",
    "\n",
    "print (filter_2_name)\n",
    "for items in filter_2:\n",
    "    plt.plot(items)\n",
    "    plt.show()\n",
    "    plt.cla()"
   ]
  },
  {
   "cell_type": "markdown",
   "metadata": {},
   "source": [
    "# 1D CNN을 통한 주가의 향방 Classification"
   ]
  },
  {
   "cell_type": "code",
   "execution_count": null,
   "metadata": {},
   "outputs": [],
   "source": [
    "print (np.shape(chart_df['차트'][0]))"
   ]
  },
  {
   "cell_type": "markdown",
   "metadata": {},
   "source": [
    "# Random Forest를 통한 주가의 향방 Classification"
   ]
  },
  {
   "cell_type": "code",
   "execution_count": null,
   "metadata": {},
   "outputs": [],
   "source": [
    "goal = 0.03\n",
    "x_list,y_list,y_raw_list = generate_train_data(2000,goal,\"20190101\",\"20201101\",20,5,stock_list[\"Code\"])\n",
    "rf = RandomForestClassifier(n_estimators=100, oob_score=True, random_state=123456)\n",
    "rf.fit(x_list,y_list)"
   ]
  },
  {
   "cell_type": "code",
   "execution_count": null,
   "metadata": {},
   "outputs": [],
   "source": [
    "chart_df = get_price_data_with_period(goal,'20201101',20,5)\n",
    "test_x = np.array(chart_df['차트'].tolist())\n",
    "test_y = rf.predict(test_x)\n",
    "real_y = np.array(chart_df['결과'].tolist())"
   ]
  },
  {
   "cell_type": "code",
   "execution_count": null,
   "metadata": {},
   "outputs": [],
   "source": [
    "t_idx = np.reshape(np.argwhere(test_y==1),-1)\n",
    "purchase = real_y[t_idx]\n",
    "expect = 0\n",
    "for idx in t_idx:\n",
    "    if real_y[idx] == 1:\n",
    "        expect += (1+goal)\n",
    "    else:\n",
    "        expect += chart_df['종가'][idx][-1]\n",
    "        print (chart_df['종가'][idx][-1])\n",
    "\n",
    "expect /= len(t_idx)\n",
    "    \n",
    "print (expect)"
   ]
  },
  {
   "cell_type": "code",
   "execution_count": null,
   "metadata": {},
   "outputs": [],
   "source": [
    "print (len(real_y[real_y == 1]) / len(is_matched))"
   ]
  },
  {
   "cell_type": "code",
   "execution_count": null,
   "metadata": {},
   "outputs": [],
   "source": [
    "print(\"Accuracy is: \", accuracy_score(test_y, real_y))\n",
    "print(classification_report(test_y, real_y))"
   ]
  },
  {
   "cell_type": "code",
   "execution_count": null,
   "metadata": {},
   "outputs": [],
   "source": [
    "test_y = rf.predict(x_list)\n",
    "real_y = y_list\n",
    "is_matched = (test_y == real_y)\n",
    "print (len(is_matched[is_matched == True]))"
   ]
  },
  {
   "cell_type": "code",
   "execution_count": null,
   "metadata": {},
   "outputs": [],
   "source": [
    "rf.score(test_x)"
   ]
  },
  {
   "cell_type": "code",
   "execution_count": null,
   "metadata": {},
   "outputs": [],
   "source": [
    "x_list,y_closing_list,y_highest_list = generate_train_data(15000,\"20160101\",\"20171222\",20,5,stock_list[\"Code\"])"
   ]
  },
  {
   "cell_type": "code",
   "execution_count": null,
   "metadata": {},
   "outputs": [],
   "source": [
    "chart_df = get_price_data_with_period(0.07,'20171229',20,5)\n",
    "print (chart_df)"
   ]
  },
  {
   "cell_type": "markdown",
   "metadata": {},
   "source": [
    "# 백테스팅을 위한 주간 데이터 수집"
   ]
  },
  {
   "cell_type": "code",
   "execution_count": null,
   "metadata": {},
   "outputs": [],
   "source": [
    "start_date = '20171229'\n",
    "result_list=[]\n",
    "for k in range(0,40):\n",
    "    expect_list = []\n",
    "    goal_list = []\n",
    "    start_date = datetime.strptime(start_date,'%Y%m%d') + dt.timedelta(days= 7)\n",
    "    start_date = start_date.strftime(\"%Y%m%d\")\n",
    "    chart_df = get_price_data_with_period(start_date,20,5)\n",
    "    for i in range(0,30):\n",
    "        goal = 0.01 + (0.005 * i)\n",
    "        y_list = []\n",
    "        for k,item in enumerate(y_highest_list):\n",
    "            y_list.append(int(np.max(item) >= (1 + goal) * x_list[k][-1]))\n",
    "\n",
    "        y_list = np.array(y_list)\n",
    "\n",
    "        rf = RandomForestClassifier(n_estimators=100, oob_score=True, random_state=123456)\n",
    "        rf.fit(x_list,y_list)\n",
    "\n",
    "        test_x = np.array(chart_df['차트'].tolist())\n",
    "                \n",
    "        if (len(test_x) == 0):\n",
    "            continue\n",
    "        test_y = rf.predict(test_x)\n",
    "        real_y = []\n",
    "\n",
    "        for k,item in enumerate(chart_df['고가']):\n",
    "            real_y.append(int(np.max(item) >= (1 + goal) * chart_df['차트'][k][-1]))\n",
    "\n",
    "        real_y = np.array(real_y)\n",
    "\n",
    "        #print(\"Accuracy is: \", accuracy_score(test_y, real_y))\n",
    "        #print(classification_report(test_y, real_y))\n",
    "\n",
    "        t_idx = np.reshape(np.argwhere(test_y==1),-1)\n",
    "        purchase = real_y[t_idx]\n",
    "        #print (chart_df['종목명'][t_idx])\n",
    "        expect = 0\n",
    "        for idx in t_idx:\n",
    "            if real_y[idx] == 1:\n",
    "                expect += (1 + goal)\n",
    "            else:\n",
    "                expect += chart_df['종가'][idx][-1]/chart_df['차트'][idx][-1]\n",
    "\n",
    "        expect /= len(t_idx)\n",
    "        goal_list.append(goal*100)\n",
    "        expect_list.append(expect)\n",
    "\n",
    "    plt.plot(goal_list,expect_list)\n",
    "    \n",
    "    result_list.append(np.array(expect_list))\n",
    "    plt.title(str(start_date))\n",
    "    plt.show()"
   ]
  },
  {
   "cell_type": "markdown",
   "metadata": {},
   "source": [
    "# 백테스팅의 익절 라인별 수익률 계산"
   ]
  },
  {
   "cell_type": "code",
   "execution_count": null,
   "metadata": {},
   "outputs": [],
   "source": [
    "result_list = np.transpose(result_list)"
   ]
  },
  {
   "cell_type": "code",
   "execution_count": null,
   "metadata": {},
   "outputs": [],
   "source": [
    "s_list = []\n",
    "for items in result_list:\n",
    "    s = 1\n",
    "    for g in items:\n",
    "        ## 수수료 계산(세금 0.3% + 키움증권 mts 기준 수수료 0.015% 차감)\n",
    "        s *= (g-0.00315)\n",
    "        print (s)\n",
    "    s_list.append(s)\n",
    "\n",
    "plt.plot(goal_list,s_list)\n",
    "plt.show()"
   ]
  },
  {
   "cell_type": "code",
   "execution_count": null,
   "metadata": {},
   "outputs": [],
   "source": [
    "print (start_date_list)\n",
    "print (chart_df_list[0].to_csv('C:\\\\Chart\\\\20171229.csv'))"
   ]
  }
 ],
 "metadata": {
  "kernelspec": {
   "display_name": "Python 3",
   "language": "python",
   "name": "python3"
  },
  "language_info": {
   "codemirror_mode": {
    "name": "ipython",
    "version": 3
   },
   "file_extension": ".py",
   "mimetype": "text/x-python",
   "name": "python",
   "nbconvert_exporter": "python",
   "pygments_lexer": "ipython3",
   "version": "3.8.3"
  }
 },
 "nbformat": 4,
 "nbformat_minor": 4
}
